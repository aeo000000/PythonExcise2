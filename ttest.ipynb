{
 "metadata": {
  "language_info": {
   "codemirror_mode": {
    "name": "ipython",
    "version": 3
   },
   "file_extension": ".py",
   "mimetype": "text/x-python",
   "name": "python",
   "nbconvert_exporter": "python",
   "pygments_lexer": "ipython3",
   "version": "3.7.9-final"
  },
  "orig_nbformat": 2,
  "kernelspec": {
   "name": "python3",
   "display_name": "Python 3.7.9 64-bit",
   "metadata": {
    "interpreter": {
     "hash": "9d6705b8ef2943328ee49e8f4a13d810a015056115b1206610288207c6de1177"
    }
   }
  }
 },
 "nbformat": 4,
 "nbformat_minor": 2,
 "cells": [
  {
   "cell_type": "code",
   "execution_count": 13,
   "metadata": {},
   "outputs": [],
   "source": [
    "\n",
    "import base64\n",
    "import os;\n",
    "import urllib.request as  req\n",
    "\n",
    "# url = r'https://rss.srss.xyz/link/4afkj7ttdewYXj3t?mu=2'\n",
    "\n",
    "# 对文字解码，解码时，长度应是4的倍数，不足的几个就加几个 = 。\n",
    "def base64_str(str0):\n",
    "    lll = len(str0)%4\n",
    "    if lll != 0:\n",
    "        str0 = str0 + '='*(4-lll)\n",
    "    # bytes转成string ，可以用str(bytes,encoding = \"utf-8\") ,也可以  bytesStr.decode(\"utf-8\")\n",
    "    return base64.b64decode(str0).decode(\"utf-8\")\n",
    "\n",
    "\n",
    "def vmess2Clash(oneVmessDic):\n",
    "\n",
    "    key1 = {\"ps\": \"name\" ,\"host\" : \"server\" ,  \"id\" : \"uuid\", \"aid\":\"alterId\" , \"net\":\"network\", \"path\": \"ws-path\" , \"port\": \"port\"}\n",
    "    key2 = { \"tls\": \"true\" , \"type\": \"vmess\", \"cipher\": \"auto\"}\n",
    "    key3 = {\"ws-headers\":\"{{Host: {}}}\"}\n",
    "    strNew = {}\n",
    "    for an in key1:\n",
    "        strNew[ key1[an]  ]  = oneVmessDic[an]\n",
    "\n",
    "    for an in key2:\n",
    "        strNew[an] = key2[an]\n",
    "    if oneVmessDic[\"add\"]:\n",
    "        strNew[\"ws-headers\"] = key3[\"ws-headers\"].format(oneVmessDic[\"add\"])\n",
    "    # print(strNew)\n",
    "\n",
    "    str3 = \"{\" + ', '.join('%s: %s' %(k,v) for k,v in strNew.items())  + \"}\"\n",
    "    str3 = str3.replace('\\\\/','/')\n",
    "    return str3\n",
    "\n",
    "\n",
    "\n",
    "\n",
    "# 输出\n",
    "def clashTxt(names , clashLst):\n",
    "    names = [' '*6 + '- '+ a for a in names]\n",
    "    nameStr = '\\n'.join(names) \n",
    "    clashLst = [' '*2 + '- '+ a for a in clashLst]\n",
    "    clashStr = '\\n'.join(clashLst) \n",
    "    string = '''port: 7890\n",
    "socks-port: 7891\n",
    "allow-lan: true\n",
    "mode: Rule\n",
    "log-level: info\n",
    "external-controller: 127.0.0.1:9090\n",
    "proxies:\n",
    "{0}\n",
    "proxy-groups:\n",
    "  - name: 🚀 节点选择\n",
    "    type: select\n",
    "    proxies:\n",
    "      - ♻️ 自动选择\n",
    "      - DIRECT\n",
    "{1}\n",
    "  - name: ♻️ 自动选择\n",
    "    type: url-test\n",
    "    url: http://www.gstatic.com/generate_204\n",
    "    interval: 300\n",
    "    tolerance: 50\n",
    "    proxies:\n",
    "{1}\n",
    "rules:\n",
    "  - MATCH,DIRECT\n",
    "'''\n",
    "    # print(string.format(clashStr,nameStr))\n",
    "    string2 = string.format(clashStr,nameStr)\n",
    "\n",
    "    fileDir = 'f:/23456.yml'\n",
    "    fo = open(fileDir,'w',encoding='utf-8')\n",
    "    fo.write(string2)\n",
    "    fo.close\n",
    "\n",
    "\n"
   ]
  },
  {
   "cell_type": "code",
   "execution_count": 14,
   "metadata": {},
   "outputs": [],
   "source": [
    "import requests\n",
    "baseurl = 'https://rss.srss.xyz/link/4afkj7ttdewYXj3t?'\n",
    "params = {'mu' : '2'}\n",
    "headers = {'User-Agent' : 'Mozilla/5.0 (Windows NT 10.0; Win64; x64) AppleWebKit/537.36 (KHTML, like Gecko) Chrome/86.0.4240.183 Safari/537.36'}\n",
    "\n",
    "# 自动对params进行编码,然后自动和url进行拼接,去发请求\n",
    "res = requests.get(baseurl,params=params,headers=headers)\n",
    "res.encoding = 'utf-8'\n",
    "# print(res.text)\n",
    "str00 = res.text\n",
    "\n",
    "strAll = base64_str(str00)\n",
    "strLst = strAll.split(\"\\n\")\n",
    "\n",
    "vmessLst = []\n",
    "for vmess in strLst:\n",
    "    vmess = base64_str(vmess[8:])\n",
    "    if vmess.startswith('{'):\n",
    "        exec(\"str2 = \" + vmess)\n",
    "        vmessLst.append(str2)\n",
    "# 所有名称\n",
    "nameLst = [ a['ps'] for a in vmessLst]\n",
    "# print(nameLst)\n",
    "clashLst = [ vmess2Clash(a) for a in vmessLst ]\n",
    "# print(clashLst)\n",
    "\n",
    "clashTxt(nameLst , clashLst)\n"
   ]
  },
  {
   "cell_type": "code",
   "execution_count": 25,
   "metadata": {},
   "outputs": [
    {
     "output_type": "stream",
     "name": "stdout",
     "text": [
      "str1 {'A': 11, 'B': 22} !\nwww 2345 !!\n"
     ]
    }
   ],
   "source": [
    "\n",
    "def test9():\n",
    "    execDic = {}\n",
    "    string = '''{'A':11,'B':22}'''\n",
    "    string2 = 'str1 = ' + string\n",
    "    string3 = 'www = 2345'\n",
    "    # print(string2)\n",
    "    exec(string2, None,execDic)\n",
    "    exec(string3, None,execDic)\n",
    "    # print('SSS {} BB'.format(sss))\n",
    "    print('str1 {} !'.format(execDic['str1']))\n",
    "    print('www {} !!'.format(execDic['www']))\n",
    "\n",
    "\n",
    "i = test9()"
   ]
  },
  {
   "cell_type": "code",
   "execution_count": null,
   "metadata": {},
   "outputs": [],
   "source": []
  }
 ]
}